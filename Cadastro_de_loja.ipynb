{
  "nbformat": 4,
  "nbformat_minor": 0,
  "metadata": {
    "colab": {
      "provenance": [],
      "authorship_tag": "ABX9TyMVLXig9sLTaYCFpt84+AAi",
      "include_colab_link": true
    },
    "kernelspec": {
      "name": "python3",
      "display_name": "Python 3"
    },
    "language_info": {
      "name": "python"
    }
  },
  "cells": [
    {
      "cell_type": "markdown",
      "metadata": {
        "id": "view-in-github",
        "colab_type": "text"
      },
      "source": [
        "<a href=\"https://colab.research.google.com/github/DevValen/LINGUAGEM-DE-PROGRA-AM-O/blob/main/Cadastro_de_loja.ipynb\" target=\"_parent\"><img src=\"https://colab.research.google.com/assets/colab-badge.svg\" alt=\"Open In Colab\"/></a>"
      ]
    },
    {
      "cell_type": "code",
      "source": [
        "#Suponha que estamos gerenciando o cadastro de uma loja, e essa loja, precisa de uma orientação\n",
        "#em qual público deve investir, sendo assim, querem saber a idade média dos clientes."
      ],
      "metadata": {
        "id": "oIJvBY_YcmyQ"
      },
      "execution_count": null,
      "outputs": []
    },
    {
      "cell_type": "code",
      "source": [
        "import pandas as pd\n",
        "\n",
        "#Criar um dicionário com nomes e idades:\n",
        "dados = {\n",
        "    'Nome': ['Alice', 'Bob', 'Carol', 'David', 'Eve'],\n",
        "    'Idade': [25, 30, 44, 56, 23]\n",
        "}\n",
        "#Criar uma série a partir do dicionário\n",
        "serie_idades = pd.Series(dados['Idade'], index=dados['Nome'])\n",
        "#Pra exibir a série de idadas\n",
        "print(\"Séries de Idades:\")\n",
        "print(serie_idades)\n"
      ],
      "metadata": {
        "colab": {
          "base_uri": "https://localhost:8080/"
        },
        "id": "rBqebwJ3dbEB",
        "outputId": "1c259b8b-086e-4b0f-d29d-d3c856d9fe21"
      },
      "execution_count": 24,
      "outputs": [
        {
          "output_type": "stream",
          "name": "stdout",
          "text": [
            "Séries de Idades:\n",
            "Alice    25\n",
            "Bob      30\n",
            "Carol    44\n",
            "David    56\n",
            "Eve      23\n",
            "dtype: int64\n"
          ]
        }
      ]
    },
    {
      "cell_type": "code",
      "source": [
        "#Calcular a média das idades\n",
        "media_idades = serie_idades.mean()\n",
        "print(\"\\nMédia de Idades:\", media_idades)"
      ],
      "metadata": {
        "colab": {
          "base_uri": "https://localhost:8080/"
        },
        "id": "qK1DbiNMdmrQ",
        "outputId": "576f9f83-8a6c-41d3-f592-f91888c03b55"
      },
      "execution_count": 25,
      "outputs": [
        {
          "output_type": "stream",
          "name": "stdout",
          "text": [
            "\n",
            "Média de Idades: 35.6\n"
          ]
        }
      ]
    }
  ]
}