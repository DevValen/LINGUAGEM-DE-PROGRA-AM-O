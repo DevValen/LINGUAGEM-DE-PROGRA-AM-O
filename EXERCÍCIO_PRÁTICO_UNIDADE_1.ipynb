{
  "nbformat": 4,
  "nbformat_minor": 0,
  "metadata": {
    "colab": {
      "provenance": [],
      "authorship_tag": "ABX9TyOg/hOFRR6ngD0cLhfMTAIu",
      "include_colab_link": true
    },
    "kernelspec": {
      "name": "python3",
      "display_name": "Python 3"
    },
    "language_info": {
      "name": "python"
    }
  },
  "cells": [
    {
      "cell_type": "markdown",
      "metadata": {
        "id": "view-in-github",
        "colab_type": "text"
      },
      "source": [
        "<a href=\"https://colab.research.google.com/github/DevValen/LINGUAGEM-DE-PROGRA-AM-O/blob/main/EXERC%C3%8DCIO_PR%C3%81TICO_UNIDADE_1.ipynb\" target=\"_parent\"><img src=\"https://colab.research.google.com/assets/colab-badge.svg\" alt=\"Open In Colab\"/></a>"
      ]
    },
    {
      "cell_type": "code",
      "execution_count": 16,
      "metadata": {
        "colab": {
          "base_uri": "https://localhost:8080/"
        },
        "id": "Xkgyn3Lpymc_",
        "outputId": "43f70eff-5b4e-442a-a1cd-1e1b8dfbb841"
      },
      "outputs": [
        {
          "output_type": "stream",
          "name": "stdout",
          "text": [
            "Olá! Bem-vindo ao sistema de notas!\n",
            "Digite o nome do aluno:José\n",
            "Veja o relatório de notas do aluno: José\n",
            "Digite a primeira nota:10\n",
            "Digite a segunda nota:6\n",
            "Digite a terceira nota:8\n",
            "Digite a quarta nota:3\n",
            "A primeira nota é: 10\n",
            "A segunda nota é: 6\n",
            "A terceira nota é: 8\n",
            "A quarta nota é: 3\n",
            "A média do aluno é: 6.75\n",
            "Situação:Você foi aprovado!\n"
          ]
        }
      ],
      "source": [
        "#Quis fazer como se fosse uma busca de nomes no sistema:\n",
        "\n",
        "print(\"Olá! Bem-vindo ao sistema de notas!\")\n",
        "nome = input(\"Digite o nome do aluno:\")\n",
        "print(\"Veja o relatório de notas do aluno: %s\" % (nome))\n",
        "#Determine as notas dos aluno:\n",
        "Nota_1 = int(input(\"Digite a primeira nota:\"))\n",
        "Nota_2 = int(input(\"Digite a segunda nota:\"))\n",
        "Nota_3 = int(input(\"Digite a terceira nota:\"))\n",
        "Nota_4 = int(input(\"Digite a quarta nota:\"))\n",
        "\n",
        "print(f\"A primeira nota é: {Nota_1}\")\n",
        "print(f\"A segunda nota é: {Nota_2}\")\n",
        "print(f\"A terceira nota é: {Nota_3}\")\n",
        "print(f\"A quarta nota é: {Nota_4}\")\n",
        "\n",
        "#Calcule a média:\n",
        "media = (Nota_1+Nota_2+Nota_3+Nota_4)/4\n",
        "\n",
        "\n",
        "#Determine a situação do aluno:\n",
        "if media >= 6:\n",
        "  situação = \"Você foi aprovado!\"\n",
        "else:\n",
        "  situação = \"Você foi reprovado.\"3\n",
        "print(f\"A média do aluno é: {media:.2f}\")\n",
        "print(f\"Situação:{situação}\")"
      ]
    }
  ]
}