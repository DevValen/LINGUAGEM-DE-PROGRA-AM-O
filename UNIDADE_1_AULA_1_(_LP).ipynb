{
  "nbformat": 4,
  "nbformat_minor": 0,
  "metadata": {
    "colab": {
      "provenance": [],
      "authorship_tag": "ABX9TyO1lLOdsmbSesMqC6xJGAY+",
      "include_colab_link": true
    },
    "kernelspec": {
      "name": "python3",
      "display_name": "Python 3"
    },
    "language_info": {
      "name": "python"
    }
  },
  "cells": [
    {
      "cell_type": "markdown",
      "metadata": {
        "id": "view-in-github",
        "colab_type": "text"
      },
      "source": [
        "<a href=\"https://colab.research.google.com/github/DevValen/LINGUAGEM-DE-PROGRA-AM-O/blob/main/UNIDADE_1_AULA_1_(_LP).ipynb\" target=\"_parent\"><img src=\"https://colab.research.google.com/assets/colab-badge.svg\" alt=\"Open In Colab\"/></a>"
      ]
    },
    {
      "cell_type": "code",
      "execution_count": null,
      "metadata": {
        "colab": {
          "base_uri": "https://localhost:8080/"
        },
        "id": "b9cfbosRlSIf",
        "outputId": "7ff442d6-cb9c-4709-d402-2a9683be8f88"
      },
      "outputs": [
        {
          "output_type": "stream",
          "name": "stdout",
          "text": [
            "Hello World!\n"
          ]
        }
      ],
      "source": [
        "#hello world é o começo de tudo\n",
        "print(\"Hello World!\")"
      ]
    },
    {
      "cell_type": "code",
      "source": [
        "nome = input(\"Digite um nome:\")"
      ],
      "metadata": {
        "colab": {
          "base_uri": "https://localhost:8080/"
        },
        "id": "r535-fddpe1G",
        "outputId": "b89f259e-4a84-4e4f-eb3f-d8b331277511"
      },
      "execution_count": null,
      "outputs": [
        {
          "name": "stdout",
          "output_type": "stream",
          "text": [
            "Digite um nome:MAX\n"
          ]
        }
      ]
    },
    {
      "cell_type": "code",
      "source": [
        "#formatadores de caracteres\n",
        "print(\"Olá %s, bem-vindo a disciplina de programação. Parabéns pelo seu primeiro hello world!\" % (nome) )\n"
      ],
      "metadata": {
        "colab": {
          "base_uri": "https://localhost:8080/"
        },
        "id": "wxghwE0Gpxun",
        "outputId": "d7af7212-4dfa-4979-e5b6-249b8d043c8e"
      },
      "execution_count": null,
      "outputs": [
        {
          "output_type": "stream",
          "name": "stdout",
          "text": [
            "Olá MAX, bem-vindo a disciplina de programação. Parabéns pelo seu primeiro hello world!\n"
          ]
        }
      ]
    },
    {
      "cell_type": "code",
      "source": [
        "#F-string\n",
        "print(f\"Olá(nome), bem-vindo a disciplina de programação. Parabéns pelo seu primeiro hello world!\")"
      ],
      "metadata": {
        "colab": {
          "base_uri": "https://localhost:8080/"
        },
        "id": "XJCjUzPdqlto",
        "outputId": "31793653-0325-4386-f40f-3f72485bbd39"
      },
      "execution_count": null,
      "outputs": [
        {
          "output_type": "stream",
          "name": "stdout",
          "text": [
            "Olá(nome), bem-vindo a disciplina de programação. Parabéns pelo seu primeiro hello world!\n"
          ]
        }
      ]
    },
    {
      "cell_type": "code",
      "source": [
        "#O PYTHON TEM MUITO DISSO, VARIAS FORMAS DE ESCREVER O MESMO CÓDIGO"
      ],
      "metadata": {
        "id": "y4EGEwHEq1Lo"
      },
      "execution_count": null,
      "outputs": []
    },
    {
      "cell_type": "code",
      "source": [
        "Nota_1 = int(input(\"Digite a primeira nota:\"))\n",
        "Nota_2 = int(input(\"Digite a segunda nota:\"))\n",
        "Nota_3 = int(input(\"Digite a terceira nota:\"))\n",
        "Nota_4 = int(input(\"Digite a quarta nota:\"))\n",
        "#Repara que usamos a função int(), pq sem ela o python entenderia como uma string\n",
        "#condição para a aprovação do aluno:\n",
        "media = (Nota_1+Nota_2+Nota_3+Nota_4)/4\n",
        "\n",
        "if media >= 6:\n",
        "  situacao = \"Aprovado\"\n",
        "else:\n",
        "  situacao = \"Reprovado\"\n",
        "\n",
        "print(f\"A média do aluno é: {media}\")\n",
        "print(f\"Situação: {situacao}\")"
      ],
      "metadata": {
        "colab": {
          "base_uri": "https://localhost:8080/"
        },
        "id": "yluf95ZdrBDA",
        "outputId": "f748a29c-b58b-4d8e-bc61-63b2735c34e1"
      },
      "execution_count": null,
      "outputs": [
        {
          "output_type": "stream",
          "name": "stdout",
          "text": [
            "Digite a primeira nota:9\n",
            "Digite a segunda nota:5\n",
            "Digite a terceira nota:8\n",
            "Digite a quarta nota:4\n",
            "A média do aluno é: 6.5\n",
            "Situação: Aprovado\n"
          ]
        }
      ]
    }
  ]
}