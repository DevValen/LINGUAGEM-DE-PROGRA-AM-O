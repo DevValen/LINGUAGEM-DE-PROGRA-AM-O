{
  "nbformat": 4,
  "nbformat_minor": 0,
  "metadata": {
    "colab": {
      "provenance": [],
      "authorship_tag": "ABX9TyN3rlLjHjbltBqSimo1VyiG",
      "include_colab_link": true
    },
    "kernelspec": {
      "name": "python3",
      "display_name": "Python 3"
    },
    "language_info": {
      "name": "python"
    }
  },
  "cells": [
    {
      "cell_type": "markdown",
      "metadata": {
        "id": "view-in-github",
        "colab_type": "text"
      },
      "source": [
        "<a href=\"https://colab.research.google.com/github/DevValen/LINGUAGEM-DE-PROGRA-AM-O/blob/main/CALCULADORA_DE_DESCONTOS.ipynb\" target=\"_parent\"><img src=\"https://colab.research.google.com/assets/colab-badge.svg\" alt=\"Open In Colab\"/></a>"
      ]
    },
    {
      "cell_type": "code",
      "execution_count": 30,
      "metadata": {
        "colab": {
          "base_uri": "https://localhost:8080/"
        },
        "id": "aMbMOL5M3jVr",
        "outputId": "b35ea6f7-a5f8-4aa6-977a-3c2b25a344ef"
      },
      "outputs": [
        {
          "name": "stdout",
          "output_type": "stream",
          "text": [
            "Digite o valor do produto: R$100\n"
          ]
        }
      ],
      "source": [
        "#Solicite ao usuário que insira o valor do produto e o percentual de desconto:\n",
        "valor_produto = float(input(\"Digite o valor do produto: R$\"))\n"
      ]
    },
    {
      "cell_type": "code",
      "source": [
        "percentual_desconto = float(input(\"Digite o percentual de desconto:\"))\n"
      ],
      "metadata": {
        "colab": {
          "base_uri": "https://localhost:8080/"
        },
        "id": "yTBiwAtR8cBd",
        "outputId": "6bb1e602-8a5d-4bdb-877a-2804b511d7c4"
      },
      "execution_count": 32,
      "outputs": [
        {
          "name": "stdout",
          "output_type": "stream",
          "text": [
            "Digite o percentual de desconto:7.35\n"
          ]
        }
      ]
    },
    {
      "cell_type": "code",
      "source": [
        "#Verifica se o percentual de desconto está dentro dos limites aceitáveis (0-100%)\n",
        "if percentual_desconto < 0 or percentual_desconto > 100:\n",
        "  print(\"Erro: O percentual de desconto deve estar entre 0% e 100%.\")\n",
        "else:\n",
        "  #Calcula o valor do desconto:\n",
        "  desconto = valor_produto * (percentual_desconto / 100)\n",
        ""
      ],
      "metadata": {
        "id": "7VqRqXSn8vp_"
      },
      "execution_count": 33,
      "outputs": []
    },
    {
      "cell_type": "code",
      "source": [
        "#Calcule o valor final da compra\n",
        "valor_final = valor_produto - desconto"
      ],
      "metadata": {
        "id": "ej8pJxnrDiYY"
      },
      "execution_count": 34,
      "outputs": []
    },
    {
      "cell_type": "code",
      "source": [
        "#Exibe o valor final da compra:\n",
        "print(f\"Valor com o desconto: R${valor_final:.2f}\")\n"
      ],
      "metadata": {
        "colab": {
          "base_uri": "https://localhost:8080/"
        },
        "id": "ITj_dXy69UF1",
        "outputId": "37b87804-9b22-458c-a019-0e6c94a55a92"
      },
      "execution_count": 35,
      "outputs": [
        {
          "output_type": "stream",
          "name": "stdout",
          "text": [
            "Valor com o desconto: R$92.65\n"
          ]
        }
      ]
    }
  ]
}