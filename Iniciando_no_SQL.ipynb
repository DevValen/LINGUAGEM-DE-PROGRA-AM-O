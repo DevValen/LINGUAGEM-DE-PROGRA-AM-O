{
  "nbformat": 4,
  "nbformat_minor": 0,
  "metadata": {
    "colab": {
      "provenance": [],
      "authorship_tag": "ABX9TyP/tI2Cao1V+/TydiI3MZcl",
      "include_colab_link": true
    },
    "kernelspec": {
      "name": "python3",
      "display_name": "Python 3"
    },
    "language_info": {
      "name": "python"
    }
  },
  "cells": [
    {
      "cell_type": "markdown",
      "metadata": {
        "id": "view-in-github",
        "colab_type": "text"
      },
      "source": [
        "<a href=\"https://colab.research.google.com/github/DevValen/LINGUAGEM-DE-PROGRA-AM-O/blob/main/Iniciando_no_SQL.ipynb\" target=\"_parent\"><img src=\"https://colab.research.google.com/assets/colab-badge.svg\" alt=\"Open In Colab\"/></a>"
      ]
    },
    {
      "cell_type": "code",
      "execution_count": 5,
      "metadata": {
        "id": "b0VMmmkG5aOW"
      },
      "outputs": [],
      "source": [
        "import sqlite3\n",
        "\n",
        "#Conectar ao banco de dados(ou criar um novo)\n",
        "#Usaremos a função connect do módulo sqlite3 para se conectar a um banco de dados SQLite\n",
        "#Chamado 'exemplo.db'. Se o banco de dados não existir, ele será criado automaticamente.\n",
        "conn = sqlite3.connect('exemplo.db')\n",
        "\n",
        "#Criar um objeto cursor\n",
        "#O cursor é usado para executar comandos SQL no banco de dados.\n",
        "#Ele atua como uma espécie de ponteiro que percorre os resultados de consultas.\n",
        "cursor = conn.cursor()\n",
        "\n",
        "#Definir o comando SQL para criar a tabela\n",
        "#Define uma string creatre_table que contém um comando SQL para  criar uma tabela chamada \"Produto\"\n",
        "#Essa tabela terá 4 colunas: id(chave primária), nome(texto), preco(número real) e estoque(número inteiro)\n",
        "#O IF NOT EXISTS garante que a tabela só seja criada se não existir\n",
        "create_table=\"\"\"\n",
        "CREATE TABLE IF NOT EXISTS Produtos(\n",
        "  id INTEGER PRIMARY KEY,\n",
        "  nome TEXTO NOT NULL,\n",
        "  preco REAL NOT NULL,\n",
        "  estoque INTEGER\n",
        ")\n",
        "\"\"\"\n",
        "#Usa o método execute do objeto cursor para executar o comando SQL definido anteriormente e criar a tabela no banco de dados.\n",
        "#Executar o comando SQL para criar a tabela\n",
        "cursor.execute(create_table)\n",
        "\n",
        "#Comfirmar as alterações (commit)\n",
        "#Após a execução bem-sucedida do comando sql, usamos o método commit no objeto de conexão (conn) para confirmar as alterações no banco de dados.\n",
        "#Isso garante que as alterações sejam efetivamente aplicadas\n",
        "conn.commit()\n",
        "\n",
        "#Fechar a conexão com o banco de dados\n",
        "#Finalmente, voce usa o método close no objeto de conexão para encerrar a conexão com o banco de daos.\n",
        "#É uma prática recomendada fechar a conexão apósa conclusão das operações, para liberar recursos e evitar possíveis problemas de concorrência.\n",
        "conn.close()"
      ]
    }
  ]
}